{
 "cells": [
  {
   "cell_type": "markdown",
   "metadata": {},
   "source": [
    "# Boosting and the AdaBoost Method\n",
    "\n",
    "Using **ensemble methods** can greatly improve the results achieved with weak machine learning algorithms, also called **weak learners**. Ensemble methods achieve better performance by aggregating the results of many statistically independent models. This process averages out the errors and produces a better, final, prediction. \n",
    "\n",
    "In this lab you will work with widely used ensemble method known as **boosting**. Boosting is a meta-algorithm since the method can be applied to many types of machine learning algorithms. In summary, boosting iteratively improves the learning of the N models by giving greater weight to training cases with larger errors. The basic boosting procedure is simple and follows these steps:\n",
    "1. N learners (machine learning models) are defined.\n",
    "2. Each of i training data cases is given an initial equal weight of 1/i.\n",
    "3. The N learners are trained on the weighted training data cases.\n",
    "4. The prediction is computed based on a aggregation of the learners; averaging over the hypothesis of the N learners. \n",
    "5. Weights for the training data cases are updated based on the aggregated errors made by the learners. Cases with larger errors are given larger weights. \n",
    "6. Steps 3, 4, and 5 are repeated until a convergence criteria is met.\n",
    "\n",
    "**Classification and regression tree models** are the weak learners most commonly used with boosting. In this lab you will work with one of the most widely used and successful boosted methods, known as **AdaBoost** or **adaptive boosting**. AdaBoost uses some large number, N, tree models. The rate at which weights are updated is **adaptive** with the errors. \n",
    "\n",
    "It is important to keep in mind that boosted machine learning is not robust to significant noise or outliers in the training data. The re-weighting process gives greater weight to the large errors, and therefore can give undue weight to outliers and errors. In cases where data is noisy, the random forest algorithm may prove to be more robust. "
   ]
  },
  {
   "cell_type": "markdown",
   "metadata": {},
   "source": [
    "## Example: Iris dataset\n",
    "\n",
    "As a first example you will use AdaBoost to classify the species of iris flowers. \n",
    "\n",
    "As a first step, execute the code in the cell below to load the required packages to run the rest of this notebook. \n",
    "\n",
    "> **Note:** If you are running in Azure Notebooks, make sure that you run the code in the `setup.ipynb` notebook at the start of you session to ensure your environment is correctly configured. "
   ]
  },
  {
   "cell_type": "code",
   "execution_count": 3,
   "metadata": {
    "scrolled": false
   },
   "outputs": [],
   "source": [
    "## Import packages\n",
    "library(ggplot2)\n",
    "library(gridExtra)\n",
    "library(repr)\n",
    "library(dplyr)\n",
    "library(caret)\n",
    "library(gbm)\n",
    "library(e1071)\n",
    "library(MLmetrics)\n",
    "\n",
    "options(repr.plot.width=4, repr.plot.height=4) # Set the initial plot area dimensions"
   ]
  },
  {
   "cell_type": "markdown",
   "metadata": {},
   "source": [
    "The code in the cell below displays the head of the data frame and plots all pairwise combinations of the features with the species of the iris flower in colors. Execute this code and examine the results.  "
   ]
  },
  {
   "cell_type": "code",
   "execution_count": 4,
   "metadata": {},
   "outputs": [
    {
     "data": {
      "text/html": [
       "<table>\n",
       "<caption>A data.frame: 10 × 5</caption>\n",
       "<thead>\n",
       "\t<tr><th scope=col>Sepal.Length</th><th scope=col>Sepal.Width</th><th scope=col>Petal.Length</th><th scope=col>Petal.Width</th><th scope=col>Species</th></tr>\n",
       "\t<tr><th scope=col>&lt;dbl&gt;</th><th scope=col>&lt;dbl&gt;</th><th scope=col>&lt;dbl&gt;</th><th scope=col>&lt;dbl&gt;</th><th scope=col>&lt;fct&gt;</th></tr>\n",
       "</thead>\n",
       "<tbody>\n",
       "\t<tr><td>5.1</td><td>3.5</td><td>1.4</td><td>0.2</td><td>setosa</td></tr>\n",
       "\t<tr><td>4.9</td><td>3.0</td><td>1.4</td><td>0.2</td><td>setosa</td></tr>\n",
       "\t<tr><td>4.7</td><td>3.2</td><td>1.3</td><td>0.2</td><td>setosa</td></tr>\n",
       "\t<tr><td>4.6</td><td>3.1</td><td>1.5</td><td>0.2</td><td>setosa</td></tr>\n",
       "\t<tr><td>5.0</td><td>3.6</td><td>1.4</td><td>0.2</td><td>setosa</td></tr>\n",
       "\t<tr><td>5.4</td><td>3.9</td><td>1.7</td><td>0.4</td><td>setosa</td></tr>\n",
       "\t<tr><td>4.6</td><td>3.4</td><td>1.4</td><td>0.3</td><td>setosa</td></tr>\n",
       "\t<tr><td>5.0</td><td>3.4</td><td>1.5</td><td>0.2</td><td>setosa</td></tr>\n",
       "\t<tr><td>4.4</td><td>2.9</td><td>1.4</td><td>0.2</td><td>setosa</td></tr>\n",
       "\t<tr><td>4.9</td><td>3.1</td><td>1.5</td><td>0.1</td><td>setosa</td></tr>\n",
       "</tbody>\n",
       "</table>\n"
      ],
      "text/latex": [
       "A data.frame: 10 × 5\n",
       "\\begin{tabular}{r|lllll}\n",
       " Sepal.Length & Sepal.Width & Petal.Length & Petal.Width & Species\\\\\n",
       " <dbl> & <dbl> & <dbl> & <dbl> & <fct>\\\\\n",
       "\\hline\n",
       "\t 5.1 & 3.5 & 1.4 & 0.2 & setosa\\\\\n",
       "\t 4.9 & 3.0 & 1.4 & 0.2 & setosa\\\\\n",
       "\t 4.7 & 3.2 & 1.3 & 0.2 & setosa\\\\\n",
       "\t 4.6 & 3.1 & 1.5 & 0.2 & setosa\\\\\n",
       "\t 5.0 & 3.6 & 1.4 & 0.2 & setosa\\\\\n",
       "\t 5.4 & 3.9 & 1.7 & 0.4 & setosa\\\\\n",
       "\t 4.6 & 3.4 & 1.4 & 0.3 & setosa\\\\\n",
       "\t 5.0 & 3.4 & 1.5 & 0.2 & setosa\\\\\n",
       "\t 4.4 & 2.9 & 1.4 & 0.2 & setosa\\\\\n",
       "\t 4.9 & 3.1 & 1.5 & 0.1 & setosa\\\\\n",
       "\\end{tabular}\n"
      ],
      "text/markdown": [
       "\n",
       "A data.frame: 10 × 5\n",
       "\n",
       "| Sepal.Length &lt;dbl&gt; | Sepal.Width &lt;dbl&gt; | Petal.Length &lt;dbl&gt; | Petal.Width &lt;dbl&gt; | Species &lt;fct&gt; |\n",
       "|---|---|---|---|---|\n",
       "| 5.1 | 3.5 | 1.4 | 0.2 | setosa |\n",
       "| 4.9 | 3.0 | 1.4 | 0.2 | setosa |\n",
       "| 4.7 | 3.2 | 1.3 | 0.2 | setosa |\n",
       "| 4.6 | 3.1 | 1.5 | 0.2 | setosa |\n",
       "| 5.0 | 3.6 | 1.4 | 0.2 | setosa |\n",
       "| 5.4 | 3.9 | 1.7 | 0.4 | setosa |\n",
       "| 4.6 | 3.4 | 1.4 | 0.3 | setosa |\n",
       "| 5.0 | 3.4 | 1.5 | 0.2 | setosa |\n",
       "| 4.4 | 2.9 | 1.4 | 0.2 | setosa |\n",
       "| 4.9 | 3.1 | 1.5 | 0.1 | setosa |\n",
       "\n"
      ],
      "text/plain": [
       "   Sepal.Length Sepal.Width Petal.Length Petal.Width Species\n",
       "1  5.1          3.5         1.4          0.2         setosa \n",
       "2  4.9          3.0         1.4          0.2         setosa \n",
       "3  4.7          3.2         1.3          0.2         setosa \n",
       "4  4.6          3.1         1.5          0.2         setosa \n",
       "5  5.0          3.6         1.4          0.2         setosa \n",
       "6  5.4          3.9         1.7          0.4         setosa \n",
       "7  4.6          3.4         1.4          0.3         setosa \n",
       "8  5.0          3.4         1.5          0.2         setosa \n",
       "9  4.4          2.9         1.4          0.2         setosa \n",
       "10 4.9          3.1         1.5          0.1         setosa "
      ]
     },
     "metadata": {},
     "output_type": "display_data"
    },
    {
     "data": {
      "image/png": "[encoded data removed]",
      "text/plain": [
       "plot without title"
      ]
     },
     "metadata": {},
     "output_type": "display_data"
    }
   ],
   "source": [
    "single_plot = function(df, colx, coly){\n",
    "    ggplot(df, aes_string(colx,coly)) +\n",
    "          geom_point(aes(color = factor(df$Species)), alpha = 0.4)\n",
    "}\n",
    "\n",
    "plot_iris = function(df){\n",
    "    options(repr.plot.width=8, repr.plot.height=5)\n",
    "    grid.arrange(\n",
    "        single_plot(df, 'Sepal.Length', 'Sepal.Width'),\n",
    "        single_plot(df, 'Sepal.Length', 'Petal.Length'),\n",
    "        single_plot(df, 'Petal.Length', 'Petal.Width'),\n",
    "        single_plot(df, 'Sepal.Width', 'Petal.Length'),\n",
    "        nrow = 2)\n",
    "}\n",
    "\n",
    "head(iris, 10)   \n",
    "plot_iris(iris) "
   ]
  },
  {
   "cell_type": "markdown",
   "metadata": {},
   "source": [
    "You can see that Setosa (in red) is well separated from the other two categories. The Versicolor (in green) and the Virginica (in blue) show considerable overlap. The question is how well our classifier will separate these categories. \n",
    "\n",
    "Next, execute the code in the cell below to split the dataset into test and training set. Notice that unusually, 67% of the cases are being used as the test dataset. "
   ]
  },
  {
   "cell_type": "code",
   "execution_count": 5,
   "metadata": {},
   "outputs": [
    {
     "data": {
      "text/html": [
       "<ol class=list-inline>\n",
       "\t<li>51</li>\n",
       "\t<li>5</li>\n",
       "</ol>\n"
      ],
      "text/latex": [
       "\\begin{enumerate*}\n",
       "\\item 51\n",
       "\\item 5\n",
       "\\end{enumerate*}\n"
      ],
      "text/markdown": [
       "1. 51\n",
       "2. 5\n",
       "\n",
       "\n"
      ],
      "text/plain": [
       "[1] 51  5"
      ]
     },
     "metadata": {},
     "output_type": "display_data"
    },
    {
     "data": {
      "text/html": [
       "<ol class=list-inline>\n",
       "\t<li>99</li>\n",
       "\t<li>5</li>\n",
       "</ol>\n"
      ],
      "text/latex": [
       "\\begin{enumerate*}\n",
       "\\item 99\n",
       "\\item 5\n",
       "\\end{enumerate*}\n"
      ],
      "text/markdown": [
       "1. 99\n",
       "2. 5\n",
       "\n",
       "\n"
      ],
      "text/plain": [
       "[1] 99  5"
      ]
     },
     "metadata": {},
     "output_type": "display_data"
    }
   ],
   "source": [
    "set.seed(1955)\n",
    "## Randomly sample cases to create independent training and test data\n",
    "partition = createDataPartition(iris[,'Species'], times = 1, p = 0.33, list = FALSE)\n",
    "training = iris[partition,] # Create the training sample\n",
    "dim(training)\n",
    "test = iris[-partition,] # Create the test sample\n",
    "dim(test)"
   ]
  },
  {
   "cell_type": "markdown",
   "metadata": {},
   "source": [
    "As is always the case with machine learning, numeric features  must be scaled. Execute the code in the cell below to scale the training and test datasets:"
   ]
  },
  {
   "cell_type": "code",
   "execution_count": 6,
   "metadata": {
    "scrolled": true
   },
   "outputs": [
    {
     "data": {
      "text/html": [
       "<table>\n",
       "<caption>A data.frame: 6 × 4</caption>\n",
       "<thead>\n",
       "\t<tr><th></th><th scope=col>Sepal.Length</th><th scope=col>Sepal.Width</th><th scope=col>Petal.Length</th><th scope=col>Petal.Width</th></tr>\n",
       "\t<tr><th></th><th scope=col>&lt;dbl&gt;</th><th scope=col>&lt;dbl&gt;</th><th scope=col>&lt;dbl&gt;</th><th scope=col>&lt;dbl&gt;</th></tr>\n",
       "</thead>\n",
       "<tbody>\n",
       "\t<tr><th scope=row>1</th><td>-0.8850113</td><td> 1.0640422</td><td>-1.344993</td><td>-1.284654</td></tr>\n",
       "\t<tr><th scope=row>3</th><td>-1.3716483</td><td> 0.3885299</td><td>-1.401918</td><td>-1.284654</td></tr>\n",
       "\t<tr><th scope=row>5</th><td>-1.0066706</td><td> 1.2892130</td><td>-1.344993</td><td>-1.284654</td></tr>\n",
       "\t<tr><th scope=row>6</th><td>-0.5200336</td><td> 1.9647253</td><td>-1.174218</td><td>-1.022585</td></tr>\n",
       "\t<tr><th scope=row>9</th><td>-1.7366260</td><td>-0.2869823</td><td>-1.344993</td><td>-1.284654</td></tr>\n",
       "\t<tr><th scope=row>10</th><td>-1.1283298</td><td> 0.1633592</td><td>-1.288068</td><td>-1.415689</td></tr>\n",
       "</tbody>\n",
       "</table>\n"
      ],
      "text/latex": [
       "A data.frame: 6 × 4\n",
       "\\begin{tabular}{r|llll}\n",
       "  & Sepal.Length & Sepal.Width & Petal.Length & Petal.Width\\\\\n",
       "  & <dbl> & <dbl> & <dbl> & <dbl>\\\\\n",
       "\\hline\n",
       "\t1 & -0.8850113 &  1.0640422 & -1.344993 & -1.284654\\\\\n",
       "\t3 & -1.3716483 &  0.3885299 & -1.401918 & -1.284654\\\\\n",
       "\t5 & -1.0066706 &  1.2892130 & -1.344993 & -1.284654\\\\\n",
       "\t6 & -0.5200336 &  1.9647253 & -1.174218 & -1.022585\\\\\n",
       "\t9 & -1.7366260 & -0.2869823 & -1.344993 & -1.284654\\\\\n",
       "\t10 & -1.1283298 &  0.1633592 & -1.288068 & -1.415689\\\\\n",
       "\\end{tabular}\n"
      ],
      "text/markdown": [
       "\n",
       "A data.frame: 6 × 4\n",
       "\n",
       "| <!--/--> | Sepal.Length &lt;dbl&gt; | Sepal.Width &lt;dbl&gt; | Petal.Length &lt;dbl&gt; | Petal.Width &lt;dbl&gt; |\n",
       "|---|---|---|---|---|\n",
       "| 1 | -0.8850113 |  1.0640422 | -1.344993 | -1.284654 |\n",
       "| 3 | -1.3716483 |  0.3885299 | -1.401918 | -1.284654 |\n",
       "| 5 | -1.0066706 |  1.2892130 | -1.344993 | -1.284654 |\n",
       "| 6 | -0.5200336 |  1.9647253 | -1.174218 | -1.022585 |\n",
       "| 9 | -1.7366260 | -0.2869823 | -1.344993 | -1.284654 |\n",
       "| 10 | -1.1283298 |  0.1633592 | -1.288068 | -1.415689 |\n",
       "\n"
      ],
      "text/plain": [
       "   Sepal.Length Sepal.Width Petal.Length Petal.Width\n",
       "1  -0.8850113    1.0640422  -1.344993    -1.284654  \n",
       "3  -1.3716483    0.3885299  -1.401918    -1.284654  \n",
       "5  -1.0066706    1.2892130  -1.344993    -1.284654  \n",
       "6  -0.5200336    1.9647253  -1.174218    -1.022585  \n",
       "9  -1.7366260   -0.2869823  -1.344993    -1.284654  \n",
       "10 -1.1283298    0.1633592  -1.288068    -1.415689  "
      ]
     },
     "metadata": {},
     "output_type": "display_data"
    }
   ],
   "source": [
    "num_cols = c('Sepal.Length', 'Sepal.Width', 'Petal.Length', 'Petal.Width')\n",
    "preProcValues <- preProcess(training[,num_cols], method = c(\"center\", \"scale\"))\n",
    "\n",
    "training[,num_cols] = predict(preProcValues, training[,num_cols])\n",
    "test[,num_cols] = predict(preProcValues, test[,num_cols])\n",
    "head(training[,num_cols])"
   ]
  },
  {
   "cell_type": "markdown",
   "metadata": {},
   "source": [
    "Now you will define and fit an AdaBoosted tree model. The code in the cell below defines the model with 5 estimators (trees) using the `gbm` function from the R gbm  package, and then fits the model. Since this is a multi-class classification problem a multinomial distribution is specified for the model response. Execute this code."
   ]
  },
  {
   "cell_type": "code",
   "execution_count": 7,
   "metadata": {},
   "outputs": [],
   "source": [
    "set.seed(3355)\n",
    "gbm_mod = gbm(Species ~ ., data = training, distribution = \"multinomial\", n.trees = 5)"
   ]
  },
  {
   "cell_type": "markdown",
   "metadata": {},
   "source": [
    "Next, the code in the cell below uses the `predict` method is used to compute the multinomial class probabilities from the scaled features. Execute this code. "
   ]
  },
  {
   "cell_type": "code",
   "execution_count": 8,
   "metadata": {},
   "outputs": [
    {
     "data": {
      "text/html": [
       "<table>\n",
       "<caption>A data.frame: 10 × 6</caption>\n",
       "<thead>\n",
       "\t<tr><th></th><th scope=col>Sepal.Length</th><th scope=col>Sepal.Width</th><th scope=col>Petal.Length</th><th scope=col>Petal.Width</th><th scope=col>Species</th><th scope=col>probs</th></tr>\n",
       "\t<tr><th></th><th scope=col>&lt;dbl&gt;</th><th scope=col>&lt;dbl&gt;</th><th scope=col>&lt;dbl&gt;</th><th scope=col>&lt;dbl&gt;</th><th scope=col>&lt;fct&gt;</th><th scope=col>&lt;dbl&gt;</th></tr>\n",
       "</thead>\n",
       "<tbody>\n",
       "\t<tr><th scope=row>2</th><td>-1.12832981</td><td>-0.06181158</td><td>-1.344993</td><td>-1.284654</td><td>setosa</td><td>0.8334803</td></tr>\n",
       "\t<tr><th scope=row>4</th><td>-1.49330752</td><td> 0.16335918</td><td>-1.288068</td><td>-1.284654</td><td>setosa</td><td>0.8334803</td></tr>\n",
       "\t<tr><th scope=row>7</th><td>-1.49330752</td><td> 0.83887147</td><td>-1.344993</td><td>-1.153619</td><td>setosa</td><td>0.8334803</td></tr>\n",
       "\t<tr><th scope=row>8</th><td>-1.00667057</td><td> 0.83887147</td><td>-1.288068</td><td>-1.284654</td><td>setosa</td><td>0.8334803</td></tr>\n",
       "\t<tr><th scope=row>13</th><td>-1.24998905</td><td>-0.06181158</td><td>-1.344993</td><td>-1.415689</td><td>setosa</td><td>0.8334803</td></tr>\n",
       "\t<tr><th scope=row>14</th><td>-1.85828524</td><td>-0.06181158</td><td>-1.515768</td><td>-1.415689</td><td>setosa</td><td>0.8334803</td></tr>\n",
       "\t<tr><th scope=row>15</th><td>-0.03339665</td><td> 2.18989606</td><td>-1.458843</td><td>-1.284654</td><td>setosa</td><td>0.4299602</td></tr>\n",
       "\t<tr><th scope=row>16</th><td>-0.15505589</td><td> 3.09057911</td><td>-1.288068</td><td>-1.022585</td><td>setosa</td><td>0.4299602</td></tr>\n",
       "\t<tr><th scope=row>17</th><td>-0.52003361</td><td> 1.96472529</td><td>-1.401918</td><td>-1.022585</td><td>setosa</td><td>0.8334803</td></tr>\n",
       "\t<tr><th scope=row>18</th><td>-0.88501133</td><td> 1.06404224</td><td>-1.344993</td><td>-1.153619</td><td>setosa</td><td>0.8334803</td></tr>\n",
       "</tbody>\n",
       "</table>\n"
      ],
      "text/latex": [
       "A data.frame: 10 × 6\n",
       "\\begin{tabular}{r|llllll}\n",
       "  & Sepal.Length & Sepal.Width & Petal.Length & Petal.Width & Species & probs\\\\\n",
       "  & <dbl> & <dbl> & <dbl> & <dbl> & <fct> & <dbl>\\\\\n",
       "\\hline\n",
       "\t2 & -1.12832981 & -0.06181158 & -1.344993 & -1.284654 & setosa & 0.8334803\\\\\n",
       "\t4 & -1.49330752 &  0.16335918 & -1.288068 & -1.284654 & setosa & 0.8334803\\\\\n",
       "\t7 & -1.49330752 &  0.83887147 & -1.344993 & -1.153619 & setosa & 0.8334803\\\\\n",
       "\t8 & -1.00667057 &  0.83887147 & -1.288068 & -1.284654 & setosa & 0.8334803\\\\\n",
       "\t13 & -1.24998905 & -0.06181158 & -1.344993 & -1.415689 & setosa & 0.8334803\\\\\n",
       "\t14 & -1.85828524 & -0.06181158 & -1.515768 & -1.415689 & setosa & 0.8334803\\\\\n",
       "\t15 & -0.03339665 &  2.18989606 & -1.458843 & -1.284654 & setosa & 0.4299602\\\\\n",
       "\t16 & -0.15505589 &  3.09057911 & -1.288068 & -1.022585 & setosa & 0.4299602\\\\\n",
       "\t17 & -0.52003361 &  1.96472529 & -1.401918 & -1.022585 & setosa & 0.8334803\\\\\n",
       "\t18 & -0.88501133 &  1.06404224 & -1.344993 & -1.153619 & setosa & 0.8334803\\\\\n",
       "\\end{tabular}\n"
      ],
      "text/markdown": [
       "\n",
       "A data.frame: 10 × 6\n",
       "\n",
       "| <!--/--> | Sepal.Length &lt;dbl&gt; | Sepal.Width &lt;dbl&gt; | Petal.Length &lt;dbl&gt; | Petal.Width &lt;dbl&gt; | Species &lt;fct&gt; | probs &lt;dbl&gt; |\n",
       "|---|---|---|---|---|---|---|\n",
       "| 2 | -1.12832981 | -0.06181158 | -1.344993 | -1.284654 | setosa | 0.8334803 |\n",
       "| 4 | -1.49330752 |  0.16335918 | -1.288068 | -1.284654 | setosa | 0.8334803 |\n",
       "| 7 | -1.49330752 |  0.83887147 | -1.344993 | -1.153619 | setosa | 0.8334803 |\n",
       "| 8 | -1.00667057 |  0.83887147 | -1.288068 | -1.284654 | setosa | 0.8334803 |\n",
       "| 13 | -1.24998905 | -0.06181158 | -1.344993 | -1.415689 | setosa | 0.8334803 |\n",
       "| 14 | -1.85828524 | -0.06181158 | -1.515768 | -1.415689 | setosa | 0.8334803 |\n",
       "| 15 | -0.03339665 |  2.18989606 | -1.458843 | -1.284654 | setosa | 0.4299602 |\n",
       "| 16 | -0.15505589 |  3.09057911 | -1.288068 | -1.022585 | setosa | 0.4299602 |\n",
       "| 17 | -0.52003361 |  1.96472529 | -1.401918 | -1.022585 | setosa | 0.8334803 |\n",
       "| 18 | -0.88501133 |  1.06404224 | -1.344993 | -1.153619 | setosa | 0.8334803 |\n",
       "\n"
      ],
      "text/plain": [
       "   Sepal.Length Sepal.Width Petal.Length Petal.Width Species probs    \n",
       "2  -1.12832981  -0.06181158 -1.344993    -1.284654   setosa  0.8334803\n",
       "4  -1.49330752   0.16335918 -1.288068    -1.284654   setosa  0.8334803\n",
       "7  -1.49330752   0.83887147 -1.344993    -1.153619   setosa  0.8334803\n",
       "8  -1.00667057   0.83887147 -1.288068    -1.284654   setosa  0.8334803\n",
       "13 -1.24998905  -0.06181158 -1.344993    -1.415689   setosa  0.8334803\n",
       "14 -1.85828524  -0.06181158 -1.515768    -1.415689   setosa  0.8334803\n",
       "15 -0.03339665   2.18989606 -1.458843    -1.284654   setosa  0.4299602\n",
       "16 -0.15505589   3.09057911 -1.288068    -1.022585   setosa  0.4299602\n",
       "17 -0.52003361   1.96472529 -1.401918    -1.022585   setosa  0.8334803\n",
       "18 -0.88501133   1.06404224 -1.344993    -1.153619   setosa  0.8334803"
      ]
     },
     "metadata": {},
     "output_type": "display_data"
    }
   ],
   "source": [
    "test$probs = predict(gbm_mod, newdata = test, n.trees = 5)\n",
    "test[1:10,]"
   ]
  },
  {
   "cell_type": "markdown",
   "metadata": {},
   "source": [
    "You can see the species and multinomial probabilities for the classes, along with the species of the the flower. \n",
    "\n",
    "The code in the cell below uses the R `which.max` function to compute classes from the maximum of the probabilities. Execute this code."
   ]
  },
  {
   "cell_type": "code",
   "execution_count": 9,
   "metadata": {},
   "outputs": [
    {
     "data": {
      "text/html": [
       "<table>\n",
       "<caption>A data.frame: 10 × 7</caption>\n",
       "<thead>\n",
       "\t<tr><th></th><th scope=col>Sepal.Length</th><th scope=col>Sepal.Width</th><th scope=col>Petal.Length</th><th scope=col>Petal.Width</th><th scope=col>Species</th><th scope=col>probs</th><th scope=col>scores</th></tr>\n",
       "\t<tr><th></th><th scope=col>&lt;dbl&gt;</th><th scope=col>&lt;dbl&gt;</th><th scope=col>&lt;dbl&gt;</th><th scope=col>&lt;dbl&gt;</th><th scope=col>&lt;fct&gt;</th><th scope=col>&lt;dbl&gt;</th><th scope=col>&lt;chr&gt;</th></tr>\n",
       "</thead>\n",
       "<tbody>\n",
       "\t<tr><th scope=row>2</th><td>-1.12832981</td><td>-0.06181158</td><td>-1.344993</td><td>-1.284654</td><td>setosa</td><td>0.8334803</td><td>sentosa</td></tr>\n",
       "\t<tr><th scope=row>4</th><td>-1.49330752</td><td> 0.16335918</td><td>-1.288068</td><td>-1.284654</td><td>setosa</td><td>0.8334803</td><td>sentosa</td></tr>\n",
       "\t<tr><th scope=row>7</th><td>-1.49330752</td><td> 0.83887147</td><td>-1.344993</td><td>-1.153619</td><td>setosa</td><td>0.8334803</td><td>sentosa</td></tr>\n",
       "\t<tr><th scope=row>8</th><td>-1.00667057</td><td> 0.83887147</td><td>-1.288068</td><td>-1.284654</td><td>setosa</td><td>0.8334803</td><td>sentosa</td></tr>\n",
       "\t<tr><th scope=row>13</th><td>-1.24998905</td><td>-0.06181158</td><td>-1.344993</td><td>-1.415689</td><td>setosa</td><td>0.8334803</td><td>sentosa</td></tr>\n",
       "\t<tr><th scope=row>14</th><td>-1.85828524</td><td>-0.06181158</td><td>-1.515768</td><td>-1.415689</td><td>setosa</td><td>0.8334803</td><td>sentosa</td></tr>\n",
       "\t<tr><th scope=row>15</th><td>-0.03339665</td><td> 2.18989606</td><td>-1.458843</td><td>-1.284654</td><td>setosa</td><td>0.4299602</td><td>sentosa</td></tr>\n",
       "\t<tr><th scope=row>16</th><td>-0.15505589</td><td> 3.09057911</td><td>-1.288068</td><td>-1.022585</td><td>setosa</td><td>0.4299602</td><td>sentosa</td></tr>\n",
       "\t<tr><th scope=row>17</th><td>-0.52003361</td><td> 1.96472529</td><td>-1.401918</td><td>-1.022585</td><td>setosa</td><td>0.8334803</td><td>sentosa</td></tr>\n",
       "\t<tr><th scope=row>18</th><td>-0.88501133</td><td> 1.06404224</td><td>-1.344993</td><td>-1.153619</td><td>setosa</td><td>0.8334803</td><td>sentosa</td></tr>\n",
       "</tbody>\n",
       "</table>\n"
      ],
      "text/latex": [
       "A data.frame: 10 × 7\n",
       "\\begin{tabular}{r|lllllll}\n",
       "  & Sepal.Length & Sepal.Width & Petal.Length & Petal.Width & Species & probs & scores\\\\\n",
       "  & <dbl> & <dbl> & <dbl> & <dbl> & <fct> & <dbl> & <chr>\\\\\n",
       "\\hline\n",
       "\t2 & -1.12832981 & -0.06181158 & -1.344993 & -1.284654 & setosa & 0.8334803 & sentosa\\\\\n",
       "\t4 & -1.49330752 &  0.16335918 & -1.288068 & -1.284654 & setosa & 0.8334803 & sentosa\\\\\n",
       "\t7 & -1.49330752 &  0.83887147 & -1.344993 & -1.153619 & setosa & 0.8334803 & sentosa\\\\\n",
       "\t8 & -1.00667057 &  0.83887147 & -1.288068 & -1.284654 & setosa & 0.8334803 & sentosa\\\\\n",
       "\t13 & -1.24998905 & -0.06181158 & -1.344993 & -1.415689 & setosa & 0.8334803 & sentosa\\\\\n",
       "\t14 & -1.85828524 & -0.06181158 & -1.515768 & -1.415689 & setosa & 0.8334803 & sentosa\\\\\n",
       "\t15 & -0.03339665 &  2.18989606 & -1.458843 & -1.284654 & setosa & 0.4299602 & sentosa\\\\\n",
       "\t16 & -0.15505589 &  3.09057911 & -1.288068 & -1.022585 & setosa & 0.4299602 & sentosa\\\\\n",
       "\t17 & -0.52003361 &  1.96472529 & -1.401918 & -1.022585 & setosa & 0.8334803 & sentosa\\\\\n",
       "\t18 & -0.88501133 &  1.06404224 & -1.344993 & -1.153619 & setosa & 0.8334803 & sentosa\\\\\n",
       "\\end{tabular}\n"
      ],
      "text/markdown": [
       "\n",
       "A data.frame: 10 × 7\n",
       "\n",
       "| <!--/--> | Sepal.Length &lt;dbl&gt; | Sepal.Width &lt;dbl&gt; | Petal.Length &lt;dbl&gt; | Petal.Width &lt;dbl&gt; | Species &lt;fct&gt; | probs &lt;dbl&gt; | scores &lt;chr&gt; |\n",
       "|---|---|---|---|---|---|---|---|\n",
       "| 2 | -1.12832981 | -0.06181158 | -1.344993 | -1.284654 | setosa | 0.8334803 | sentosa |\n",
       "| 4 | -1.49330752 |  0.16335918 | -1.288068 | -1.284654 | setosa | 0.8334803 | sentosa |\n",
       "| 7 | -1.49330752 |  0.83887147 | -1.344993 | -1.153619 | setosa | 0.8334803 | sentosa |\n",
       "| 8 | -1.00667057 |  0.83887147 | -1.288068 | -1.284654 | setosa | 0.8334803 | sentosa |\n",
       "| 13 | -1.24998905 | -0.06181158 | -1.344993 | -1.415689 | setosa | 0.8334803 | sentosa |\n",
       "| 14 | -1.85828524 | -0.06181158 | -1.515768 | -1.415689 | setosa | 0.8334803 | sentosa |\n",
       "| 15 | -0.03339665 |  2.18989606 | -1.458843 | -1.284654 | setosa | 0.4299602 | sentosa |\n",
       "| 16 | -0.15505589 |  3.09057911 | -1.288068 | -1.022585 | setosa | 0.4299602 | sentosa |\n",
       "| 17 | -0.52003361 |  1.96472529 | -1.401918 | -1.022585 | setosa | 0.8334803 | sentosa |\n",
       "| 18 | -0.88501133 |  1.06404224 | -1.344993 | -1.153619 | setosa | 0.8334803 | sentosa |\n",
       "\n"
      ],
      "text/plain": [
       "   Sepal.Length Sepal.Width Petal.Length Petal.Width Species probs     scores \n",
       "2  -1.12832981  -0.06181158 -1.344993    -1.284654   setosa  0.8334803 sentosa\n",
       "4  -1.49330752   0.16335918 -1.288068    -1.284654   setosa  0.8334803 sentosa\n",
       "7  -1.49330752   0.83887147 -1.344993    -1.153619   setosa  0.8334803 sentosa\n",
       "8  -1.00667057   0.83887147 -1.288068    -1.284654   setosa  0.8334803 sentosa\n",
       "13 -1.24998905  -0.06181158 -1.344993    -1.415689   setosa  0.8334803 sentosa\n",
       "14 -1.85828524  -0.06181158 -1.515768    -1.415689   setosa  0.8334803 sentosa\n",
       "15 -0.03339665   2.18989606 -1.458843    -1.284654   setosa  0.4299602 sentosa\n",
       "16 -0.15505589   3.09057911 -1.288068    -1.022585   setosa  0.4299602 sentosa\n",
       "17 -0.52003361   1.96472529 -1.401918    -1.022585   setosa  0.8334803 sentosa\n",
       "18 -0.88501133   1.06404224 -1.344993    -1.153619   setosa  0.8334803 sentosa"
      ]
     },
     "metadata": {},
     "output_type": "display_data"
    }
   ],
   "source": [
    "test$scores = apply(test$probs, 1, which.max) # Find the class with the maximum probability\n",
    "test$scores = ifelse(test$scores == 1, 'sentosa', ifelse(test$scores == 2, 'versicolor', 'virginica'))\n",
    "test[1:10,]"
   ]
  },
  {
   "cell_type": "markdown",
   "metadata": {},
   "source": [
    "It is time to evaluate the model results. Keep in mind that the problem has been made deliberately difficult, by having more test cases than training cases. The iris data has three species categories. Therefore it is necessary to use evaluation code for a three category problem. The function in the cell below extends code from previous labs to deal with a three category problem. Execute this code and examine the results."
   ]
  },
  {
   "cell_type": "code",
   "execution_count": 10,
   "metadata": {
    "scrolled": false
   },
   "outputs": [
    {
     "name": "stdout",
     "output_type": "stream",
     "text": [
      "            Predicted\n",
      "Actual       sentosa versicolor virginica\n",
      "  setosa          33          0         0\n",
      "  versicolor       4         24         5\n",
      "  virginica        0          5        28\n",
      "\n",
      "Accuracy =  0.859 \n",
      " \n",
      "          setosa versicolor virginica\n",
      "Precision  1.000      0.727     0.848\n",
      "Recall     0.892      0.828     0.848\n",
      "F1         0.943      0.774     0.848\n"
     ]
    }
   ],
   "source": [
    "print_metrics = function(df, label){\n",
    "    ## Compute and print the confusion matrix\n",
    "    cm = as.matrix(table(Actual = df$Species, Predicted = df$scores))\n",
    "    print(cm)\n",
    "\n",
    "    ## Compute and print accuracy \n",
    "    accuracy = round(sum(sapply(1:nrow(cm), function(i) cm[i,i]))/sum(cm), 3)\n",
    "    cat('\\n')\n",
    "    cat(paste('Accuracy = ', as.character(accuracy)), '\\n \\n')                           \n",
    "\n",
    "    ## Compute and print precision, recall and F1\n",
    "    precision = sapply(1:nrow(cm), function(i) cm[i,i]/sum(cm[i,]))\n",
    "    recall = sapply(1:nrow(cm), function(i) cm[i,i]/sum(cm[,i]))    \n",
    "    F1 = sapply(1:nrow(cm), function(i) 2*(recall[i] * precision[i])/(recall[i] + precision[i]))    \n",
    "    metrics = sapply(c(precision, recall, F1), round, 3)        \n",
    "    metrics = t(matrix(metrics, nrow = nrow(cm), ncol = ncol(cm)))       \n",
    "    dimnames(metrics) = list(c('Precision', 'Recall', 'F1'), unique(test$Species))      \n",
    "    print(metrics)\n",
    "}  \n",
    "print_metrics(test, 'Species')   "
   ]
  },
  {
   "cell_type": "markdown",
   "metadata": {},
   "source": [
    "Examine these results. Notice the following:\n",
    "1. The confusion matrix has dimension 3X3. You can see that most cases are correctly classified, but with a few errors. \n",
    "2. The overall accuracy is 0.83. Since the classes are roughly balanced, this metric indicates relatively good performance of the classifier, particularly since it was only trained on 50 cases. \n",
    "3. The precision, recall and  F1 for each of the classes are reasonable.\n",
    "\n",
    "The above results were computed using an ensemble with only 5 trees. Will more trees in the ensemble help? To find out, execute this code and examine the results. \n",
    "\n",
    "Then, answer **Question 1** on the course page."
   ]
  },
  {
   "cell_type": "code",
   "execution_count": 11,
   "metadata": {},
   "outputs": [
    {
     "name": "stdout",
     "output_type": "stream",
     "text": [
      "            Predicted\n",
      "Actual       sentosa versicolor virginica\n",
      "  setosa          33          0         0\n",
      "  versicolor       0         31         2\n",
      "  virginica        0          6        27\n",
      "\n",
      "Accuracy =  0.919 \n",
      " \n",
      "          setosa versicolor virginica\n",
      "Precision      1      0.939     0.818\n",
      "Recall         1      0.838     0.931\n",
      "F1             1      0.886     0.871\n"
     ]
    }
   ],
   "source": [
    "set.seed(8899)\n",
    "gbm_mod = gbm(Species ~ ., data = training, distribution = \"multinomial\", n.trees = 100)\n",
    "test$probs = predict(gbm_mod, newdata = test, n.trees = 100)\n",
    "test$scores = apply(test$probs, 1, which.max) # Find the class with the maximum probability\n",
    "test$scores = ifelse(test$scores == 1, 'sentosa', ifelse(test$scores == 2, 'versicolor', 'virginica'))\n",
    "print_metrics(test, 'Species')  "
   ]
  },
  {
   "cell_type": "markdown",
   "metadata": {},
   "source": [
    "These metrics show a small improvement. Using more trees in the ensemble has resulted in a better model. \n",
    "\n",
    "How important are each of the features for this model? The R Caret package provides the capability to find out. As a first step, `gbm` models must be trained using the the Caret `train` function. The code in the cell below does this, using the default model arguments. The default arguments for the model are specified with the `tuneGrid` argument of `train`. Execute the code."
   ]
  },
  {
   "cell_type": "code",
   "execution_count": 12,
   "metadata": {
    "scrolled": false
   },
   "outputs": [],
   "source": [
    "gbm_mod_train = train(Species ~ ., data = training, method = \"gbm\", verbose = FALSE,\n",
    "            distribution = \"multinomial\", trControl=trainControl(number=100),\n",
    "            tuneGrid=expand.grid(n.trees = 100,\n",
    "                                 interaction.depth = 1, \n",
    "                                 n.minobsinnode = 10, \n",
    "                                 shrinkage = 0.001))"
   ]
  },
  {
   "cell_type": "markdown",
   "metadata": {},
   "source": [
    "With the Caret model object trained, the feature importance can be computed and displayed. Execute this code and examine the results. "
   ]
  },
  {
   "cell_type": "code",
   "execution_count": 13,
   "metadata": {},
   "outputs": [
    {
     "data": {
      "image/png": "[encoded data removed]",
      "text/plain": [
       "plot without title"
      ]
     },
     "metadata": {},
     "output_type": "display_data"
    }
   ],
   "source": [
    "options(repr.plot.width=4, repr.plot.height=3)\n",
    "imp = varImp(gbm_mod_train, scale = FALSE)$importance\n",
    "imp[,'Feature'] = row.names(imp)\n",
    "ggplot(imp, aes(x = Feature, y = Overall)) + geom_point(size = 4) +\n",
    "       ggtitle('Variable importance for iris features')"
   ]
  },
  {
   "cell_type": "markdown",
   "metadata": {},
   "source": [
    "Observe the following:\n",
    "1. Petal length is the most importance feature.\n",
    "2. Sepal width is the least important feature. \n",
    "\n",
    "The question now is, if a model with a reduced feature set will be an improvement. Execute the code in the cell below which creates a model using three of the four features.\n",
    "\n",
    "Then, answer **Question 2** on the course page."
   ]
  },
  {
   "cell_type": "code",
   "execution_count": 14,
   "metadata": {},
   "outputs": [
    {
     "name": "stdout",
     "output_type": "stream",
     "text": [
      "            Predicted\n",
      "Actual       sentosa versicolor virginica\n",
      "  setosa          33          0         0\n",
      "  versicolor       0         32         1\n",
      "  virginica        0          7        26\n",
      "\n",
      "Accuracy =  0.919 \n",
      " \n",
      "          setosa versicolor virginica\n",
      "Precision      1      0.970     0.788\n",
      "Recall         1      0.821     0.963\n",
      "F1             1      0.889     0.867\n"
     ]
    }
   ],
   "source": [
    "set.seed(8899)\n",
    "gbm_mod = gbm(Species ~ Petal.Length + Petal.Width + Sepal.Length, \n",
    "              data = training, distribution = \"multinomial\", n.trees = 100)\n",
    "test$probs = predict(gbm_mod, newdata = test, n.trees = 100)\n",
    "test$scores = apply(test$probs, 1, which.max) # Find the class with the maximum probability\n",
    "test$scores = ifelse(test$scores == 1, 'sentosa', ifelse(test$scores == 2, 'versicolor', 'virginica'))\n",
    "print_metrics(test, 'Species')  "
   ]
  },
  {
   "cell_type": "markdown",
   "metadata": {},
   "source": [
    "The model with reduced feature set has slightly improved metrics. Overall, this model is preferred since it is more likely to generalize. \n",
    "\n",
    "The code in the cell below plots the classes of the iris flower along with the classification errors shown by shape. Execute this code and examine the results.  "
   ]
  },
  {
   "cell_type": "code",
   "execution_count": 15,
   "metadata": {
    "scrolled": false
   },
   "outputs": [
    {
     "data": {
      "image/png": "[encoded data removed]",
      "text/plain": [
       "plot without title"
      ]
     },
     "metadata": {},
     "output_type": "display_data"
    }
   ],
   "source": [
    "## Create column of correct-incorrect classification\n",
    "test$correct = ifelse(test$Species == test$scores, 'correct', 'incorrect')\n",
    "\n",
    "single_plot_classes = function(df, colx, coly){\n",
    "    ggplot(df, aes_string(colx,coly)) +\n",
    "          geom_point(aes(color = factor(df$Species), shape = correct), alpha = 0.4)\n",
    "}\n",
    "\n",
    "plot_iris_classes = function(df){\n",
    "    options(repr.plot.width=8, repr.plot.height=5)\n",
    "    grid.arrange(\n",
    "        single_plot_classes(df, 'Sepal.Length', 'Sepal.Width'),\n",
    "        single_plot_classes(df, 'Sepal.Length', 'Petal.Length'),\n",
    "        single_plot_classes(df, 'Petal.Length', 'Petal.Width'),\n",
    "        single_plot_classes(df, 'Sepal.Width', 'Petal.Length'),\n",
    "        nrow = 2)\n",
    "}\n",
    "\n",
    "plot_iris_classes(test)"
   ]
  },
  {
   "cell_type": "markdown",
   "metadata": {},
   "source": [
    "Examine these plots. You can see how the classifier has divided the feature space between the classes. Notice that most of the errors occur in the overlap region between Virginica and Versicolor. This behavior is to be expected.  "
   ]
  },
  {
   "cell_type": "markdown",
   "metadata": {},
   "source": [
    "## Another example\n",
    "\n",
    "Now, you will try a more complex example using the credit scoring data. You will use the prepared data which has been prepared by removing duplicate cases. Some columns which are know not to be predictive are removed. Execute the code in the cell below to load the dataset for the example. "
   ]
  },
  {
   "cell_type": "code",
   "execution_count": 16,
   "metadata": {},
   "outputs": [
    {
     "name": "stdout",
     "output_type": "stream",
     "text": [
      "[1] 1000   16\n"
     ]
    },
    {
     "data": {
      "text/html": [
       "<ol class=list-inline>\n",
       "\t<li>'checking_account_status'</li>\n",
       "\t<li>'loan_duration_mo'</li>\n",
       "\t<li>'credit_history'</li>\n",
       "\t<li>'loan_amount'</li>\n",
       "\t<li>'savings_account_balance'</li>\n",
       "\t<li>'time_employed_yrs'</li>\n",
       "\t<li>'payment_pcnt_income'</li>\n",
       "\t<li>'time_in_residence'</li>\n",
       "\t<li>'property'</li>\n",
       "\t<li>'age_yrs'</li>\n",
       "\t<li>'other_credit_outstanding'</li>\n",
       "\t<li>'number_loans'</li>\n",
       "\t<li>'job_category'</li>\n",
       "\t<li>'dependents'</li>\n",
       "\t<li>'telephone'</li>\n",
       "\t<li>'bad_credit'</li>\n",
       "</ol>\n"
      ],
      "text/latex": [
       "\\begin{enumerate*}\n",
       "\\item 'checking\\_account\\_status'\n",
       "\\item 'loan\\_duration\\_mo'\n",
       "\\item 'credit\\_history'\n",
       "\\item 'loan\\_amount'\n",
       "\\item 'savings\\_account\\_balance'\n",
       "\\item 'time\\_employed\\_yrs'\n",
       "\\item 'payment\\_pcnt\\_income'\n",
       "\\item 'time\\_in\\_residence'\n",
       "\\item 'property'\n",
       "\\item 'age\\_yrs'\n",
       "\\item 'other\\_credit\\_outstanding'\n",
       "\\item 'number\\_loans'\n",
       "\\item 'job\\_category'\n",
       "\\item 'dependents'\n",
       "\\item 'telephone'\n",
       "\\item 'bad\\_credit'\n",
       "\\end{enumerate*}\n"
      ],
      "text/markdown": [
       "1. 'checking_account_status'\n",
       "2. 'loan_duration_mo'\n",
       "3. 'credit_history'\n",
       "4. 'loan_amount'\n",
       "5. 'savings_account_balance'\n",
       "6. 'time_employed_yrs'\n",
       "7. 'payment_pcnt_income'\n",
       "8. 'time_in_residence'\n",
       "9. 'property'\n",
       "10. 'age_yrs'\n",
       "11. 'other_credit_outstanding'\n",
       "12. 'number_loans'\n",
       "13. 'job_category'\n",
       "14. 'dependents'\n",
       "15. 'telephone'\n",
       "16. 'bad_credit'\n",
       "\n",
       "\n"
      ],
      "text/plain": [
       " [1] \"checking_account_status\"  \"loan_duration_mo\"        \n",
       " [3] \"credit_history\"           \"loan_amount\"             \n",
       " [5] \"savings_account_balance\"  \"time_employed_yrs\"       \n",
       " [7] \"payment_pcnt_income\"      \"time_in_residence\"       \n",
       " [9] \"property\"                 \"age_yrs\"                 \n",
       "[11] \"other_credit_outstanding\" \"number_loans\"            \n",
       "[13] \"job_category\"             \"dependents\"              \n",
       "[15] \"telephone\"                \"bad_credit\"              "
      ]
     },
     "metadata": {},
     "output_type": "display_data"
    }
   ],
   "source": [
    "credit = read.csv('German_Credit_Preped.csv', header = TRUE)\n",
    "## Subset the data frame\n",
    "credit = credit[,c('checking_account_status', 'loan_duration_mo', 'credit_history', 'loan_amount', 'savings_account_balance',\n",
    "                   'time_employed_yrs', 'payment_pcnt_income', 'time_in_residence', 'property', 'age_yrs',\n",
    "                   'other_credit_outstanding', 'number_loans', 'job_category', 'dependents', 'telephone', 'bad_credit' )]\n",
    "print(dim(credit))\n",
    "names(credit)"
   ]
  },
  {
   "cell_type": "markdown",
   "metadata": {},
   "source": [
    "Cross validation will be used to train the model. Since folds will be selected from the entire dataset the numeric features are scaled in batch. Execute the code in the cell below to accomplish this: "
   ]
  },
  {
   "cell_type": "code",
   "execution_count": 17,
   "metadata": {},
   "outputs": [
    {
     "data": {
      "text/html": [
       "<table>\n",
       "<caption>A data.frame: 6 × 7</caption>\n",
       "<thead>\n",
       "\t<tr><th scope=col>loan_duration_mo</th><th scope=col>loan_amount</th><th scope=col>payment_pcnt_income</th><th scope=col>time_in_residence</th><th scope=col>age_yrs</th><th scope=col>number_loans</th><th scope=col>dependents</th></tr>\n",
       "\t<tr><th scope=col>&lt;dbl&gt;</th><th scope=col>&lt;dbl&gt;</th><th scope=col>&lt;dbl&gt;</th><th scope=col>&lt;dbl&gt;</th><th scope=col>&lt;dbl&gt;</th><th scope=col>&lt;dbl&gt;</th><th scope=col>&lt;dbl&gt;</th></tr>\n",
       "</thead>\n",
       "<tbody>\n",
       "\t<tr><td>-1.2358595</td><td>-0.7447588</td><td> 0.91801781</td><td> 1.0464631</td><td> 2.76507291</td><td> 1.0265652</td><td>-0.4280754</td></tr>\n",
       "\t<tr><td> 2.2470700</td><td> 0.9493418</td><td>-0.86974813</td><td>-0.7655942</td><td>-1.19080809</td><td>-0.7045734</td><td>-0.4280754</td></tr>\n",
       "\t<tr><td>-0.7382981</td><td>-0.4163541</td><td>-0.86974813</td><td> 0.1404344</td><td> 1.18272051</td><td>-0.7045734</td><td> 2.3337012</td></tr>\n",
       "\t<tr><td> 1.7495086</td><td> 1.6334296</td><td>-0.86974813</td><td> 1.0464631</td><td> 0.83108664</td><td>-0.7045734</td><td> 2.3337012</td></tr>\n",
       "\t<tr><td> 0.2568246</td><td> 0.5663801</td><td> 0.02413484</td><td> 1.0464631</td><td> 1.53435438</td><td> 1.0265652</td><td> 2.3337012</td></tr>\n",
       "\t<tr><td> 1.2519473</td><td> 2.0489838</td><td>-0.86974813</td><td> 1.0464631</td><td>-0.04799802</td><td>-0.7045734</td><td> 2.3337012</td></tr>\n",
       "</tbody>\n",
       "</table>\n"
      ],
      "text/latex": [
       "A data.frame: 6 × 7\n",
       "\\begin{tabular}{r|lllllll}\n",
       " loan\\_duration\\_mo & loan\\_amount & payment\\_pcnt\\_income & time\\_in\\_residence & age\\_yrs & number\\_loans & dependents\\\\\n",
       " <dbl> & <dbl> & <dbl> & <dbl> & <dbl> & <dbl> & <dbl>\\\\\n",
       "\\hline\n",
       "\t -1.2358595 & -0.7447588 &  0.91801781 &  1.0464631 &  2.76507291 &  1.0265652 & -0.4280754\\\\\n",
       "\t  2.2470700 &  0.9493418 & -0.86974813 & -0.7655942 & -1.19080809 & -0.7045734 & -0.4280754\\\\\n",
       "\t -0.7382981 & -0.4163541 & -0.86974813 &  0.1404344 &  1.18272051 & -0.7045734 &  2.3337012\\\\\n",
       "\t  1.7495086 &  1.6334296 & -0.86974813 &  1.0464631 &  0.83108664 & -0.7045734 &  2.3337012\\\\\n",
       "\t  0.2568246 &  0.5663801 &  0.02413484 &  1.0464631 &  1.53435438 &  1.0265652 &  2.3337012\\\\\n",
       "\t  1.2519473 &  2.0489838 & -0.86974813 &  1.0464631 & -0.04799802 & -0.7045734 &  2.3337012\\\\\n",
       "\\end{tabular}\n"
      ],
      "text/markdown": [
       "\n",
       "A data.frame: 6 × 7\n",
       "\n",
       "| loan_duration_mo &lt;dbl&gt; | loan_amount &lt;dbl&gt; | payment_pcnt_income &lt;dbl&gt; | time_in_residence &lt;dbl&gt; | age_yrs &lt;dbl&gt; | number_loans &lt;dbl&gt; | dependents &lt;dbl&gt; |\n",
       "|---|---|---|---|---|---|---|\n",
       "| -1.2358595 | -0.7447588 |  0.91801781 |  1.0464631 |  2.76507291 |  1.0265652 | -0.4280754 |\n",
       "|  2.2470700 |  0.9493418 | -0.86974813 | -0.7655942 | -1.19080809 | -0.7045734 | -0.4280754 |\n",
       "| -0.7382981 | -0.4163541 | -0.86974813 |  0.1404344 |  1.18272051 | -0.7045734 |  2.3337012 |\n",
       "|  1.7495086 |  1.6334296 | -0.86974813 |  1.0464631 |  0.83108664 | -0.7045734 |  2.3337012 |\n",
       "|  0.2568246 |  0.5663801 |  0.02413484 |  1.0464631 |  1.53435438 |  1.0265652 |  2.3337012 |\n",
       "|  1.2519473 |  2.0489838 | -0.86974813 |  1.0464631 | -0.04799802 | -0.7045734 |  2.3337012 |\n",
       "\n"
      ],
      "text/plain": [
       "  loan_duration_mo loan_amount payment_pcnt_income time_in_residence\n",
       "1 -1.2358595       -0.7447588   0.91801781          1.0464631       \n",
       "2  2.2470700        0.9493418  -0.86974813         -0.7655942       \n",
       "3 -0.7382981       -0.4163541  -0.86974813          0.1404344       \n",
       "4  1.7495086        1.6334296  -0.86974813          1.0464631       \n",
       "5  0.2568246        0.5663801   0.02413484          1.0464631       \n",
       "6  1.2519473        2.0489838  -0.86974813          1.0464631       \n",
       "  age_yrs     number_loans dependents\n",
       "1  2.76507291  1.0265652   -0.4280754\n",
       "2 -1.19080809 -0.7045734   -0.4280754\n",
       "3  1.18272051 -0.7045734    2.3337012\n",
       "4  0.83108664 -0.7045734    2.3337012\n",
       "5  1.53435438  1.0265652    2.3337012\n",
       "6 -0.04799802 -0.7045734    2.3337012"
      ]
     },
     "metadata": {},
     "output_type": "display_data"
    }
   ],
   "source": [
    "num_cols = c('loan_duration_mo', 'loan_amount', 'payment_pcnt_income',\n",
    "             'time_in_residence', 'age_yrs', 'number_loans', 'dependents')\n",
    "\n",
    "preProcValues <- preProcess(credit[,num_cols], method = c(\"center\", \"scale\"))\n",
    "credit[,num_cols] = predict(preProcValues, credit[,num_cols])\n",
    "head(credit[,num_cols])"
   ]
  },
  {
   "cell_type": "markdown",
   "metadata": {},
   "source": [
    "The R Caret package computes most performance metrics using the positive cases. For example, recall is a measure of correct classification of positive cases. Therefore, it is important to have the coding of the label correct. The code in the cell below creates a factor (categorical) variable and coerces the levels of the label column, `bad_credit`. Execute this code. "
   ]
  },
  {
   "cell_type": "code",
   "execution_count": 18,
   "metadata": {},
   "outputs": [
    {
     "data": {
      "text/html": [
       "<ol class=list-inline>\n",
       "\t<li>good</li>\n",
       "\t<li>bad</li>\n",
       "\t<li>good</li>\n",
       "\t<li>good</li>\n",
       "\t<li>bad</li>\n",
       "</ol>\n",
       "\n",
       "<details>\n",
       "\t<summary style=display:list-item;cursor:pointer>\n",
       "\t\t<strong>Levels</strong>:\n",
       "\t</summary>\n",
       "\t<ol class=list-inline>\n",
       "\t\t<li>'bad'</li>\n",
       "\t\t<li>'good'</li>\n",
       "\t</ol>\n",
       "</details>"
      ],
      "text/latex": [
       "\\begin{enumerate*}\n",
       "\\item good\n",
       "\\item bad\n",
       "\\item good\n",
       "\\item good\n",
       "\\item bad\n",
       "\\end{enumerate*}\n",
       "\n",
       "\\emph{Levels}: \\begin{enumerate*}\n",
       "\\item 'bad'\n",
       "\\item 'good'\n",
       "\\end{enumerate*}\n"
      ],
      "text/markdown": [
       "1. good\n",
       "2. bad\n",
       "3. good\n",
       "4. good\n",
       "5. bad\n",
       "\n",
       "\n",
       "\n",
       "**Levels**: 1. 'bad'\n",
       "2. 'good'\n",
       "\n",
       "\n"
      ],
      "text/plain": [
       "[1] good bad  good good bad \n",
       "Levels: bad good"
      ]
     },
     "metadata": {},
     "output_type": "display_data"
    }
   ],
   "source": [
    "credit$bad_credit <- ifelse(credit$bad_credit == 1, 'bad', 'good')\n",
    "credit$bad_credit <- factor(credit$bad_credit, levels = c('bad', 'good'))\n",
    "credit$bad_credit[1:5]"
   ]
  },
  {
   "cell_type": "markdown",
   "metadata": {},
   "source": [
    "In the results above you can see the new coding of the label column along with the levels, {'bad', 'good'}. \n",
    "\n",
    "As the inner loop of a nested cross validation, the code in the cell below uses the capability of the R Caret package to estimate the best hyperparameters using 5 fold cross validation. This first cross validation is performed using ROC as the metric. There are a few points to note here:\n",
    "1. A Caret `trainControl` object is used to define the 5 fold cross validation. The `twoClassSummary` function is specified, making ROC the metric for hyperparameter optimization. The `gbm` model does not accommodate case weights. To compensate for the class imbalance **up-sampling** or **over-sampling** is used. Up-sampling over-samples the minority case so that the number of classes in each training fold is balanced. \n",
    "2. The model is trained using all features as can be seen from the model formula in the Caret `train` function. \n",
    "3. `ROC` is specified as a `metric` in the call to `train`. \n",
    "4. Weights are specified to help with the class imbalance and the cost imbalance of misclassification of bad credit customers. \n",
    "5. The `train` function uses a `tuneGrid` argument to define the hyperparameters to search. \n",
    "\n",
    "Execute this code, examine the result, and answer **Question 3** on the course page."
   ]
  },
  {
   "cell_type": "code",
   "execution_count": 19,
   "metadata": {},
   "outputs": [
    {
     "name": "stdout",
     "output_type": "stream",
     "text": [
      "Stochastic Gradient Boosting \n",
      "\n",
      "1000 samples\n",
      "  15 predictor\n",
      "   2 classes: 'bad', 'good' \n",
      "\n",
      "No pre-processing\n",
      "Resampling: Cross-Validated (5 fold) \n",
      "Summary of sample sizes: 800, 800, 800, 800, 800 \n",
      "Addtional sampling using up-sampling\n",
      "\n",
      "Resampling results across tuning parameters:\n",
      "\n",
      "  interaction.depth  n.trees  ROC        Sens       Spec     \n",
      "  1                   50      0.7543214  0.7600000  0.6285714\n",
      "  1                  100      0.7625000  0.7233333  0.6728571\n",
      "  1                  150      0.7695000  0.7266667  0.6700000\n",
      "  2                   50      0.7626071  0.7333333  0.6714286\n",
      "  2                  100      0.7718810  0.6900000  0.6971429\n",
      "  2                  150      0.7678571  0.6933333  0.7114286\n",
      "  3                   50      0.7735595  0.7100000  0.6885714\n",
      "  3                  100      0.7763571  0.6900000  0.7328571\n",
      "  3                  150      0.7789286  0.6866667  0.7400000\n",
      "\n",
      "Tuning parameter 'shrinkage' was held constant at a value of 0.1\n",
      "\n",
      "Tuning parameter 'n.minobsinnode' was held constant at a value of 10\n",
      "ROC was used to select the optimal model using the largest value.\n",
      "The final values used for the model were n.trees = 150, interaction.depth =\n",
      " 3, shrinkage = 0.1 and n.minobsinnode = 10.\n"
     ]
    }
   ],
   "source": [
    "fitControl <- trainControl(method = \"cv\",\n",
    "                           number = 5,\n",
    "                           sampling = 'up',\n",
    "                           returnResamp=\"all\",\n",
    "                           savePredictions = TRUE,\n",
    "                           classProbs = TRUE,\n",
    "                           summaryFunction = twoClassSummary)\n",
    "\n",
    "set.seed(1234)\n",
    "bb_fit_inside_tw <- train(bad_credit ~ ., \n",
    "                          data = credit,  \n",
    "                          method = \"gbm\", # Gradient boosted tree model\n",
    "                          trControl = fitControl, \n",
    "                          verbose = FALSE,\n",
    "                          metric=\"ROC\")\n",
    "print(bb_fit_inside_tw)"
   ]
  },
  {
   "cell_type": "markdown",
   "metadata": {},
   "source": [
    "The grid of hyperpameters searched by the Caret package are `interaction.depth` and `n.trees`. The grid along with the ROC metric is shown in the printed table. Notice that `shrinkage` and `n.minobsinnode` can be added to the tuning grid. \n",
    "\n",
    "The hyperparameter optimization can also be performed using Recall as a metric. The code in the cell below uses the `prSummary` function for the `summaryFunction` argument for `trainControl` and sets the `metric` as `Recall`. Execute this call and examine the results.  "
   ]
  },
  {
   "cell_type": "code",
   "execution_count": 20,
   "metadata": {},
   "outputs": [
    {
     "name": "stdout",
     "output_type": "stream",
     "text": [
      "Stochastic Gradient Boosting \n",
      "\n",
      "1000 samples\n",
      "  15 predictor\n",
      "   2 classes: 'bad', 'good' \n",
      "\n",
      "No pre-processing\n",
      "Resampling: Cross-Validated (5 fold) \n",
      "Summary of sample sizes: 800, 800, 800, 800, 800 \n",
      "Addtional sampling using up-sampling\n",
      "\n",
      "Resampling results across tuning parameters:\n",
      "\n",
      "  interaction.depth  n.trees  AUC        Precision  Recall     F        \n",
      "  1                   50      0.5389179  0.4671015  0.7633333  0.5794226\n",
      "  1                  100      0.5539526  0.4989659  0.7400000  0.5955702\n",
      "  1                  150      0.5705265  0.5074065  0.7300000  0.5984183\n",
      "  2                   50      0.5552387  0.4904308  0.7400000  0.5895124\n",
      "  2                  100      0.5740508  0.5224279  0.7333333  0.6097015\n",
      "  2                  150      0.5844549  0.5312957  0.7000000  0.6035966\n",
      "  3                   50      0.5747270  0.5074860  0.7233333  0.5962420\n",
      "  3                  100      0.5808698  0.5172663  0.6966667  0.5931833\n",
      "  3                  150      0.5857396  0.5275132  0.6966667  0.6002603\n",
      "\n",
      "Tuning parameter 'shrinkage' was held constant at a value of 0.1\n",
      "\n",
      "Tuning parameter 'n.minobsinnode' was held constant at a value of 10\n",
      "Recall was used to select the optimal model using the largest value.\n",
      "The final values used for the model were n.trees = 50, interaction.depth =\n",
      " 1, shrinkage = 0.1 and n.minobsinnode = 10.\n"
     ]
    }
   ],
   "source": [
    "fitControl <- trainControl(method = \"cv\",\n",
    "                           number = 5,\n",
    "                           sampling = 'up',\n",
    "                           returnResamp=\"all\",\n",
    "                           savePredictions = TRUE,\n",
    "                           classProbs = TRUE,\n",
    "                           summaryFunction = prSummary)\n",
    "\n",
    "set.seed(15534)\n",
    "bb_fit_inside_pr <- train(bad_credit ~ ., \n",
    "                          data = credit,  \n",
    "                          method = \"gbm\", # Gradient boosted tree model\n",
    "                          trControl = fitControl, \n",
    "                          verbose = FALSE,\n",
    "                          metric=\"Recall\")\n",
    "print(bb_fit_inside_pr)"
   ]
  },
  {
   "cell_type": "markdown",
   "metadata": {},
   "source": [
    "Let's stay with the model trained on ROC. \n",
    "\n",
    "Given the optimal hyperparameters for the model trained with ROC, which features are the most important? The code in the cell below computes and displays feature importance using the Caret `varImp` function. Execute this code and examine the results. "
   ]
  },
  {
   "cell_type": "code",
   "execution_count": 21,
   "metadata": {},
   "outputs": [
    {
     "name": "stdout",
     "output_type": "stream",
     "text": [
      "gbm variable importance\n",
      "\n",
      "  only 20 most important variables shown (out of 31)\n",
      "\n",
      "                                                      Overall\n",
      "loan_amount                                           100.000\n",
      "checking_account_statusnone                            90.909\n",
      "loan_duration_mo                                       48.571\n",
      "age_yrs                                                48.381\n",
      "credit_historycritical account - other non-bank loans  20.519\n",
      "other_credit_outstandingnone                           14.230\n",
      "payment_pcnt_income                                    12.731\n",
      "time_in_residence                                      12.326\n",
      "propertyunknown-none                                   12.107\n",
      "savings_account_balanceunknown/none                    11.384\n",
      "propertyreal estate                                    10.491\n",
      "checking_account_status0 - 200 DM                       9.572\n",
      "checking_account_status> 200 DM or salary assignment    9.203\n",
      "time_employed_yrs4 - 7 years                            8.300\n",
      "telephoneyes                                            5.765\n",
      "number_loans                                            5.147\n",
      "savings_account_balance>= 1000 DM                       5.042\n",
      "credit_historypast payment delays                       4.931\n",
      "credit_historyno credit - paid                          4.671\n",
      "time_employed_yrsunemployed                             4.052\n"
     ]
    },
    {
     "data": {
      "image/png": "[encoded data removed]",
      "text/plain": [
       "plot without title"
      ]
     },
     "metadata": {},
     "output_type": "display_data"
    }
   ],
   "source": [
    "options(repr.plot.width=8, repr.plot.height=6)\n",
    "var_imp = varImp(bb_fit_inside_tw)\n",
    "print(var_imp)\n",
    "plot(var_imp)"
   ]
  },
  {
   "cell_type": "markdown",
   "metadata": {},
   "source": [
    "In is clear that some of the features are not important to model performance. Execute the code in the cell below to prune the feature set using the dplyr `select` function:"
   ]
  },
  {
   "cell_type": "code",
   "execution_count": 22,
   "metadata": {},
   "outputs": [],
   "source": [
    "credit_reduced = select(credit, -dependents, -time_employed_yrs, -job_category, -other_credit_outstanding)"
   ]
  },
  {
   "cell_type": "markdown",
   "metadata": {},
   "source": [
    "Execute the code in the cell below to perform the cross validation grid search using the reduced feature set: "
   ]
  },
  {
   "cell_type": "code",
   "execution_count": 23,
   "metadata": {},
   "outputs": [
    {
     "name": "stdout",
     "output_type": "stream",
     "text": [
      "Stochastic Gradient Boosting \n",
      "\n",
      "1000 samples\n",
      "  11 predictor\n",
      "   2 classes: 'bad', 'good' \n",
      "\n",
      "No pre-processing\n",
      "Resampling: Cross-Validated (5 fold) \n",
      "Summary of sample sizes: 800, 800, 800, 800, 800 \n",
      "Addtional sampling using up-sampling\n",
      "\n",
      "Resampling results across tuning parameters:\n",
      "\n",
      "  interaction.depth  n.trees  ROC        Sens       Spec     \n",
      "  1                   50      0.7627857  0.7533333  0.6571429\n",
      "  1                  100      0.7674762  0.7433333  0.6914286\n",
      "  1                  150      0.7677500  0.7233333  0.7185714\n",
      "  2                   50      0.7709524  0.7233333  0.6700000\n",
      "  2                  100      0.7805000  0.7233333  0.7142857\n",
      "  2                  150      0.7853095  0.7166667  0.7242857\n",
      "  3                   50      0.7717976  0.7133333  0.7085714\n",
      "  3                  100      0.7809048  0.6800000  0.7300000\n",
      "  3                  150      0.7838810  0.6900000  0.7585714\n",
      "\n",
      "Tuning parameter 'shrinkage' was held constant at a value of 0.1\n",
      "\n",
      "Tuning parameter 'n.minobsinnode' was held constant at a value of 10\n",
      "ROC was used to select the optimal model using the largest value.\n",
      "The final values used for the model were n.trees = 150, interaction.depth =\n",
      " 2, shrinkage = 0.1 and n.minobsinnode = 10.\n"
     ]
    }
   ],
   "source": [
    "fitControl <- trainControl(method = \"cv\",\n",
    "                           number = 5,\n",
    "                           sampling = 'up',\n",
    "                           returnResamp=\"all\",\n",
    "                           savePredictions = TRUE,\n",
    "                           classProbs = TRUE,\n",
    "                           summaryFunction = twoClassSummary)\n",
    "\n",
    "set.seed(4321)\n",
    "bb_fit_inside_tw <- train(bad_credit ~ ., \n",
    "                          data = credit_reduced,  \n",
    "                          method = \"gbm\", # Gradient boosted tree model\n",
    "                          trControl = fitControl, \n",
    "                          verbose = FALSE,\n",
    "                          metric=\"ROC\")\n",
    "print(bb_fit_inside_tw)"
   ]
  },
  {
   "cell_type": "markdown",
   "metadata": {},
   "source": [
    "The results of the cross validation grid search with the reduced feature set are nearly the same as the first result. Evidentially, pruning these features was the correct step. This process can be continued, but will not be in this lab in the interest of reducing length. \n",
    "\n",
    "To better understand the parameter sweep, execute the code in the cell below to create a chart."
   ]
  },
  {
   "cell_type": "code",
   "execution_count": 24,
   "metadata": {},
   "outputs": [
    {
     "data": {
      "image/png": "[encoded data removed]",
      "text/plain": [
       "plot without title"
      ]
     },
     "metadata": {},
     "output_type": "display_data"
    }
   ],
   "source": [
    "options(repr.plot.width=5, repr.plot.height=4)\n",
    "trellis.par.set(caretTheme())\n",
    "plot(bb_fit_inside_tw)  "
   ]
  },
  {
   "cell_type": "markdown",
   "metadata": {},
   "source": [
    "Examine these results. The ROC is in a narrow range, but there are clear differences for the various . \n",
    "hyperpareter choices.\n",
    "\n",
    "Finally, to verify that the model will generalize well it is time to perform the outside CV loop. The code in the cell below defines a parameter grid with just the optimal hyperparameter values. The CV then repeatedly fits the model with this single hyperparameter. Execute this code and examine the result.\n",
    "\n",
    "Then, answer **Question 4** on the course page."
   ]
  },
  {
   "cell_type": "code",
   "execution_count": 25,
   "metadata": {},
   "outputs": [
    {
     "data": {
      "text/html": [
       "<table>\n",
       "<caption>A data.frame: 7 × 8</caption>\n",
       "<thead>\n",
       "\t<tr><th scope=col>ROC</th><th scope=col>Sens</th><th scope=col>Spec</th><th scope=col>n.trees</th><th scope=col>interaction.depth</th><th scope=col>shrinkage</th><th scope=col>n.minobsinnode</th><th scope=col>Resample</th></tr>\n",
       "\t<tr><th scope=col>&lt;dbl&gt;</th><th scope=col>&lt;dbl&gt;</th><th scope=col>&lt;dbl&gt;</th><th scope=col>&lt;chr&gt;</th><th scope=col>&lt;chr&gt;</th><th scope=col>&lt;chr&gt;</th><th scope=col>&lt;chr&gt;</th><th scope=col>&lt;chr&gt;</th></tr>\n",
       "</thead>\n",
       "<tbody>\n",
       "\t<tr><td>0.806</td><td>0.683</td><td>0.779</td><td>100</td><td>3</td><td>0.1</td><td>10</td><td>Fold1</td></tr>\n",
       "\t<tr><td>0.794</td><td>0.733</td><td>0.700</td><td>100</td><td>3</td><td>0.1</td><td>10</td><td>Fold2</td></tr>\n",
       "\t<tr><td>0.747</td><td>0.700</td><td>0.657</td><td>100</td><td>3</td><td>0.1</td><td>10</td><td>Fold3</td></tr>\n",
       "\t<tr><td>0.731</td><td>0.600</td><td>0.750</td><td>100</td><td>3</td><td>0.1</td><td>10</td><td>Fold4</td></tr>\n",
       "\t<tr><td>0.784</td><td>0.617</td><td>0.779</td><td>100</td><td>3</td><td>0.1</td><td>10</td><td>Fold5</td></tr>\n",
       "\t<tr><td>0.772</td><td>0.667</td><td>0.733</td><td>100</td><td>3</td><td>0.1</td><td>10</td><td>Mean </td></tr>\n",
       "\t<tr><td>0.032</td><td>0.057</td><td>0.053</td><td>100</td><td>3</td><td>0.1</td><td>10</td><td>STD  </td></tr>\n",
       "</tbody>\n",
       "</table>\n"
      ],
      "text/latex": [
       "A data.frame: 7 × 8\n",
       "\\begin{tabular}{r|llllllll}\n",
       " ROC & Sens & Spec & n.trees & interaction.depth & shrinkage & n.minobsinnode & Resample\\\\\n",
       " <dbl> & <dbl> & <dbl> & <chr> & <chr> & <chr> & <chr> & <chr>\\\\\n",
       "\\hline\n",
       "\t 0.806 & 0.683 & 0.779 & 100 & 3 & 0.1 & 10 & Fold1\\\\\n",
       "\t 0.794 & 0.733 & 0.700 & 100 & 3 & 0.1 & 10 & Fold2\\\\\n",
       "\t 0.747 & 0.700 & 0.657 & 100 & 3 & 0.1 & 10 & Fold3\\\\\n",
       "\t 0.731 & 0.600 & 0.750 & 100 & 3 & 0.1 & 10 & Fold4\\\\\n",
       "\t 0.784 & 0.617 & 0.779 & 100 & 3 & 0.1 & 10 & Fold5\\\\\n",
       "\t 0.772 & 0.667 & 0.733 & 100 & 3 & 0.1 & 10 & Mean \\\\\n",
       "\t 0.032 & 0.057 & 0.053 & 100 & 3 & 0.1 & 10 & STD  \\\\\n",
       "\\end{tabular}\n"
      ],
      "text/markdown": [
       "\n",
       "A data.frame: 7 × 8\n",
       "\n",
       "| ROC &lt;dbl&gt; | Sens &lt;dbl&gt; | Spec &lt;dbl&gt; | n.trees &lt;chr&gt; | interaction.depth &lt;chr&gt; | shrinkage &lt;chr&gt; | n.minobsinnode &lt;chr&gt; | Resample &lt;chr&gt; |\n",
       "|---|---|---|---|---|---|---|---|\n",
       "| 0.806 | 0.683 | 0.779 | 100 | 3 | 0.1 | 10 | Fold1 |\n",
       "| 0.794 | 0.733 | 0.700 | 100 | 3 | 0.1 | 10 | Fold2 |\n",
       "| 0.747 | 0.700 | 0.657 | 100 | 3 | 0.1 | 10 | Fold3 |\n",
       "| 0.731 | 0.600 | 0.750 | 100 | 3 | 0.1 | 10 | Fold4 |\n",
       "| 0.784 | 0.617 | 0.779 | 100 | 3 | 0.1 | 10 | Fold5 |\n",
       "| 0.772 | 0.667 | 0.733 | 100 | 3 | 0.1 | 10 | Mean  |\n",
       "| 0.032 | 0.057 | 0.053 | 100 | 3 | 0.1 | 10 | STD   |\n",
       "\n"
      ],
      "text/plain": [
       "  ROC   Sens  Spec  n.trees interaction.depth shrinkage n.minobsinnode Resample\n",
       "1 0.806 0.683 0.779 100     3                 0.1       10             Fold1   \n",
       "2 0.794 0.733 0.700 100     3                 0.1       10             Fold2   \n",
       "3 0.747 0.700 0.657 100     3                 0.1       10             Fold3   \n",
       "4 0.731 0.600 0.750 100     3                 0.1       10             Fold4   \n",
       "5 0.784 0.617 0.779 100     3                 0.1       10             Fold5   \n",
       "6 0.772 0.667 0.733 100     3                 0.1       10             Mean    \n",
       "7 0.032 0.057 0.053 100     3                 0.1       10             STD     "
      ]
     },
     "metadata": {},
     "output_type": "display_data"
    }
   ],
   "source": [
    "## Set the hyperparameter grid to the optimal values from the inside loop\n",
    "paramGrid <- expand.grid(n.trees = c(100), interaction.depth = c(3), shrinkage = c(0.1), n.minobsinnode = c(10))\n",
    "\n",
    "set.seed(5678)\n",
    "bb_fit_outside_tw <- train(bad_credit ~ ., \n",
    "                          data = credit_reduced,  \n",
    "                          method = \"gbm\", # Gradient boosted tree model\n",
    "                          trControl = fitControl, \n",
    "                          tuneGrid = paramGrid, \n",
    "                          verbose = FALSE,\n",
    "                          metric=\"ROC\")\n",
    "\n",
    "print_metrics = function(mod){\n",
    "    means = c(apply(mod$resample[,1:3], 2, mean), n.trees = mod$resample[1,4], interaction.depth = mod$resample[1,5], \n",
    "              shrinkage = mod$resample[1,6], n.minobsinnode = mod$resample[1,7], Resample = 'Mean')\n",
    "    stds = c(apply(mod$resample[,1:3], 2, sd), n.trees = mod$resample[1,4], interaction.depth = mod$resample[1,5], \n",
    "              shrinkage = mod$resample[1,6], n.minobsinnode = mod$resample[1,7], Resample = 'STD')\n",
    "    out = rbind(mod$resample, means, stds)\n",
    "    out[,1:3] = lapply(out[,1:3], function(x) round(as.numeric(x), 3))\n",
    "    out\n",
    "}\n",
    "print_metrics(bb_fit_outside_tw)"
   ]
  },
  {
   "cell_type": "markdown",
   "metadata": {},
   "source": [
    "Examine these results. Notice that the standard deviation of the mean of the AUC are nearly an order of magnitude smaller than the mean. This indicates that this model is likely to generalize well. \n",
    "\n",
    "***\n",
    "**Note:** The predict method can be used with this optimal model to classify unknown cases.\n",
    "***"
   ]
  },
  {
   "cell_type": "markdown",
   "metadata": {},
   "source": [
    "## Summary\n",
    "\n",
    "In this lab you have accomplished the following:\n",
    "1. Used an AdaBoosted tree model to classify the cases of the iris data. This model produced quite good results. \n",
    "2. Used 5 fold to find estimated optimal hyperparameters for an AdaBoosted tree model to classify credit risk cases. The model did not generalize well.\n",
    "3. Applied up-sampling of the minority cases to create a balanced training dataset and retrained and evaluated the model. \n",
    "4. Applied feature importance was used for feature selection. The model created and evaluated with the reduced feature set had essentially the same performance as the model with more features. \n",
    "5. Used the outer loop of the nested cross validation to demonstrate that the model is likely to generalize."
   ]
  },
  {
   "cell_type": "code",
   "execution_count": null,
   "metadata": {},
   "outputs": [],
   "source": []
  }
 ],
 "metadata": {
  "kernelspec": {
   "display_name": "R",
   "language": "R",
   "name": "ir"
  },
  "language_info": {
   "codemirror_mode": "r",
   "file_extension": ".r",
   "mimetype": "text/x-r-source",
   "name": "R",
   "pygments_lexer": "r",
   "version": "3.6.0"
  }
 },
 "nbformat": 4,
 "nbformat_minor": 2
}
